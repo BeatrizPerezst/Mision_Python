{
 "cells": [
  {
   "cell_type": "markdown",
   "metadata": {},
   "source": [
    "Ejercicio 1: Reporte de combustible"
   ]
  },
  {
   "cell_type": "code",
   "execution_count": 38,
   "metadata": {},
   "outputs": [],
   "source": [
    "def reporte_combustible(tanque1, tanque2, tanque3):\n",
    "    total = (tanque1 + tanque2 + tanque3) / 3\n",
    "    return f'''Combustible disponible:\n",
    "    Total: {total}%\n",
    "    Tanque 1: {tanque1}%\n",
    "    Tanque 2: {tanque2}%\n",
    "    Tanque 3: {tanque3}%\n",
    "    '''"
   ]
  },
  {
   "cell_type": "code",
   "execution_count": 14,
   "metadata": {},
   "outputs": [
    {
     "name": "stdout",
     "output_type": "stream",
     "text": [
      "Combustible disponible:\n",
      "    Total: 64.66666666666667%\n",
      "    Tanque 1: 34%\n",
      "    Tanque 2: 67%\n",
      "    Tanque 3: 93%\n",
      "    \n"
     ]
    }
   ],
   "source": [
    "print(reporte_combustible(34,67,93))"
   ]
  },
  {
   "cell_type": "code",
   "execution_count": 9,
   "metadata": {},
   "outputs": [],
   "source": [
    "def promedio_reporte(values):\n",
    "    total = sum(values)\n",
    "    numero_tanques = len(values)\n",
    "    return total / numero_tanques\n"
   ]
  },
  {
   "cell_type": "code",
   "execution_count": 10,
   "metadata": {},
   "outputs": [
    {
     "data": {
      "text/plain": [
       "64.66666666666667"
      ]
     },
     "execution_count": 10,
     "metadata": {},
     "output_type": "execute_result"
    }
   ],
   "source": [
    "promedio_reporte([34,67,93])"
   ]
  },
  {
   "cell_type": "code",
   "execution_count": 15,
   "metadata": {},
   "outputs": [
    {
     "name": "stdout",
     "output_type": "stream",
     "text": [
      "Combustible disponible:\n",
      "    Total: 64.66666666666667%\n",
      "    Tanque 1: 34%\n",
      "    Tanque 2: 67%\n",
      "    Tanque 3: 93%\n",
      "    \n"
     ]
    }
   ],
   "source": [
    "def reporte_combustible(tanque1, tanque2, tanque3):\n",
    "    return f'''Combustible disponible:\n",
    "    Total: {promedio_reporte([tanque1, tanque2, tanque3])}%\n",
    "    Tanque 1: {tanque1}%\n",
    "    Tanque 2: {tanque2}%\n",
    "    Tanque 3: {tanque3}%\n",
    "    '''\n",
    "print(reporte_combustible(34,67,93))"
   ]
  },
  {
   "cell_type": "markdown",
   "metadata": {},
   "source": [
    "Ejercicio 2: Reporte de Misión"
   ]
  },
  {
   "cell_type": "code",
   "execution_count": 16,
   "metadata": {},
   "outputs": [],
   "source": [
    "def reporte_mision(prelanzamiento, t_vuelo, destino, tanque_ext, tanque_int):\n",
    "    return f\"\"\"\n",
    "    Mision: {destino}\n",
    "    Tiempo estimado de viaje: {prelanzamiento + t_vuelo} minutos\n",
    "    Combustible disponible: {tanque_ext + tanque_int} gallones\n",
    "    \"\"\""
   ]
  },
  {
   "cell_type": "code",
   "execution_count": 17,
   "metadata": {},
   "outputs": [
    {
     "name": "stdout",
     "output_type": "stream",
     "text": [
      "\n",
      "    Mision: Jupiter\n",
      "    Tiempo estimado de viaje: 644 minutos\n",
      "    Combustible disponible: 133299 gallones\n",
      "    \n"
     ]
    }
   ],
   "source": [
    "print(reporte_mision(144, 500, 'Jupiter', 33300, 99999))"
   ]
  },
  {
   "cell_type": "code",
   "execution_count": 29,
   "metadata": {},
   "outputs": [],
   "source": [
    "def reporte_mision(destino, *minutos, **reservas_combustible):\n",
    "    return f\"\"\"\n",
    "    Mision: {destino}\n",
    "    Tiempo estimado de viaje: {sum(minutos)} minutos\n",
    "    Total de combustible disponible: {sum(reservas_combustible.values())}\n",
    "    \"\"\""
   ]
  },
  {
   "cell_type": "code",
   "execution_count": 37,
   "metadata": {},
   "outputs": [
    {
     "name": "stdout",
     "output_type": "stream",
     "text": [
      "\n",
      "    Mision: Neptuno\n",
      "    Tiempo estimado de viaje: 116 minutos\n",
      "    Total de combustible disponible: 89000\n",
      "    \n"
     ]
    }
   ],
   "source": [
    "print(reporte_mision('Neptuno', 45, 61, 10, interno=79000, externo=10000))"
   ]
  },
  {
   "cell_type": "code",
   "execution_count": 51,
   "metadata": {},
   "outputs": [],
   "source": [
    "def reporte_general(destino, *minutos, **reservas_combustible):\n",
    "    reporte_general =f\"\"\"\n",
    "    Mision: {destino}\n",
    "    Tiempo estimado de viaje: {sum(minutos)} minutos\n",
    "    Total de combustible disponible: {sum(reservas_combustible.values())}\n",
    "    \"\"\"\n",
    "    for tanque, galones in reservas_combustible.items():\n",
    "        reporte_general += f\" {tanque} tanque --> {galones} galones restantes\\n\"\n",
    "    return reporte_general"
   ]
  },
  {
   "cell_type": "code",
   "execution_count": 52,
   "metadata": {},
   "outputs": [
    {
     "name": "stdout",
     "output_type": "stream",
     "text": [
      "\n",
      "    Mision: Neptuno\n",
      "    Tiempo estimado de viaje: 116 minutos\n",
      "    Total de combustible disponible: 89000\n",
      "     interno tanque --> 79000 galones restantes\n",
      " externo tanque --> 10000 galones restantes\n",
      "\n"
     ]
    }
   ],
   "source": [
    "print(reporte_general('Neptuno', 45, 61, 10, interno=79000, externo=10000))"
   ]
  }
 ],
 "metadata": {
  "interpreter": {
   "hash": "aee8b7b246df8f9039afb4144a1f6fd8d2ca17a180786b69acc140d282b71a49"
  },
  "kernelspec": {
   "display_name": "Python 3.10.2 64-bit",
   "language": "python",
   "name": "python3"
  },
  "language_info": {
   "codemirror_mode": {
    "name": "ipython",
    "version": 3
   },
   "file_extension": ".py",
   "mimetype": "text/x-python",
   "name": "python",
   "nbconvert_exporter": "python",
   "pygments_lexer": "ipython3",
   "version": "3.10.2"
  },
  "orig_nbformat": 4
 },
 "nbformat": 4,
 "nbformat_minor": 2
}
